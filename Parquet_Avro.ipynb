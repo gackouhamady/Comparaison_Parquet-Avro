{
  "nbformat": 4,
  "nbformat_minor": 0,
  "metadata": {
    "colab": {
      "private_outputs": true,
      "provenance": []
    },
    "kernelspec": {
      "name": "python3",
      "display_name": "Python 3"
    },
    "language_info": {
      "name": "python"
    }
  },
  "cells": [
    {
      "cell_type": "markdown",
      "source": [],
      "metadata": {
        "id": "vsKgiJeiySyf"
      }
    },
    {
      "cell_type": "code",
      "source": [],
      "metadata": {
        "id": "hW96M74rySiG"
      },
      "execution_count": null,
      "outputs": []
    }
  ]
}