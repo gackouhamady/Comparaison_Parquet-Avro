{
  "nbformat": 4,
  "nbformat_minor": 0,
  "metadata": {
    "colab": {
      "private_outputs": true,
      "provenance": [],
      "include_colab_link": true
    },
    "kernelspec": {
      "name": "python3",
      "display_name": "Python 3"
    },
    "language_info": {
      "name": "python"
    }
  },
  "cells": [
    {
      "cell_type": "markdown",
      "metadata": {
        "id": "view-in-github",
        "colab_type": "text"
      },
      "source": [
        "<a href=\"https://colab.research.google.com/github/gackouhamady/TP1_Parquet_Avro/blob/main/Parquet_Avro.ipynb\" target=\"_parent\"><img src=\"https://colab.research.google.com/assets/colab-badge.svg\" alt=\"Open In Colab\"/></a>"
      ]
    },
    {
      "cell_type": "markdown",
      "source": [
        "# 1. **Bibliothec Needed**"
      ],
      "metadata": {
        "id": "WND3ZdIjzc7J"
      }
    },
    {
      "cell_type": "code",
      "source": [
        "!pip install fastavro pandavro pyarrow python-snappy pandas"
      ],
      "metadata": {
        "id": "hW96M74rySiG"
      },
      "execution_count": null,
      "outputs": []
    },
    {
      "cell_type": "markdown",
      "source": [
        "# 1.**Avro**"
      ],
      "metadata": {
        "id": "Xoj2PGNPz8KP"
      }
    },
    {
      "cell_type": "code",
      "source": [
        "import fastavro\n",
        "import json\n",
        "\n",
        "# Définition du schéma Avro\n",
        "schema = {\n",
        "    \"type\": \"record\",\n",
        "    \"name\": \"User\",\n",
        "    \"fields\": [\n",
        "        {\"name\": \"id\", \"type\": \"int\"},\n",
        "        {\"name\": \"name\", \"type\": \"string\"},\n",
        "        {\"name\": \"age\", \"type\": \"int\"}\n",
        "    ]\n",
        "}\n",
        "\n",
        "# Création de données\n",
        "records = [\n",
        "    {\"id\": 1, \"name\": \"Alice\", \"age\": 25},\n",
        "    {\"id\": 2, \"name\": \"Bob\", \"age\": 30},\n",
        "    {\"id\": 3, \"name\": \"Charlie\", \"age\": 22}\n",
        "]\n",
        "\n",
        "# Écriture dans un fichier Avro\n",
        "with open(\"data.avro\", \"wb\") as out_file:\n",
        "    fastavro.writer(out_file, schema, records)\n"
      ],
      "metadata": {
        "id": "y1QwYYba0kDh"
      },
      "execution_count": null,
      "outputs": []
    },
    {
      "cell_type": "markdown",
      "source": [
        "**Simple Read**"
      ],
      "metadata": {
        "id": "8Hdl9YdB1qoe"
      }
    },
    {
      "cell_type": "code",
      "source": [
        "# Lecture du fichier Avro\n",
        "with open(\"data.avro\", \"rb\") as in_file:\n",
        "    reader = fastavro.reader(in_file)\n",
        "    for record in reader:\n",
        "        print(record)\n"
      ],
      "metadata": {
        "id": "q0g_BU3L1pkZ"
      },
      "execution_count": null,
      "outputs": []
    },
    {
      "cell_type": "markdown",
      "source": [
        "**pandavro pour manipuler un DataFrame**"
      ],
      "metadata": {
        "id": "7zr_Czmd11Ki"
      }
    },
    {
      "cell_type": "code",
      "source": [
        "import pandas as pd\n",
        "import pandavro as pva\n",
        "\n",
        "# Création d'un DataFrame Pandas\n",
        "df = pd.DataFrame(records)\n",
        "\n",
        "# Enregistrement au format Avro\n",
        "pva.to_avro(\"data_pandas.avro\", df)\n",
        "\n",
        "# Chargement d'un fichier Avro en DataFrame\n",
        "df_loaded = pva.read_avro(\"data_pandas.avro\")\n",
        "print(df_loaded)\n"
      ],
      "metadata": {
        "id": "7n4Oa0CW11VK"
      },
      "execution_count": null,
      "outputs": []
    },
    {
      "cell_type": "markdown",
      "source": [
        "# 2. **Parquet**"
      ],
      "metadata": {
        "id": "NRvLPfKd2Ou5"
      }
    },
    {
      "cell_type": "markdown",
      "source": [
        "**Écriture d’un DataFrame en Parquet**"
      ],
      "metadata": {
        "id": "sYppXdqN2gJ6"
      }
    },
    {
      "cell_type": "code",
      "source": [
        "import pyarrow.parquet as pq\n",
        "import pyarrow as pa\n",
        "\n",
        "# Conversion du DataFrame Pandas en Table Arrow\n",
        "table = pa.Table.from_pandas(df)\n",
        "\n",
        "# Enregistrement au format Parquet\n",
        "pq.write_table(table, \"data.parquet\")\n"
      ],
      "metadata": {
        "id": "bSsYeu-82WCA"
      },
      "execution_count": null,
      "outputs": []
    },
    {
      "cell_type": "markdown",
      "source": [
        "**Simple Read**"
      ],
      "metadata": {
        "id": "GOw2uCD12qcR"
      }
    },
    {
      "cell_type": "code",
      "source": [
        "# Lecture du fichier Parquet\n",
        "table = pq.read_table(\"data.parquet\")\n",
        "df_parquet = table.to_pandas()\n",
        "print(df_parquet)\n"
      ],
      "metadata": {
        "id": "7JqQsr1Q2tSu"
      },
      "execution_count": null,
      "outputs": []
    },
    {
      "cell_type": "markdown",
      "source": [
        "**Sub column Readings**"
      ],
      "metadata": {
        "id": "SwrmDb1w24UL"
      }
    },
    {
      "cell_type": "code",
      "source": [
        "# Lecture d'un sous-ensemble des colonnes (ex: seulement 'name' et 'age')\n",
        "df_subset = pq.read_table(\"data.parquet\", columns=[\"name\", \"age\"]).to_pandas()\n",
        "print(df_subset)\n"
      ],
      "metadata": {
        "id": "CbrD7wif2-gn"
      },
      "execution_count": null,
      "outputs": []
    },
    {
      "cell_type": "markdown",
      "source": [
        "#3. **Comparaison entre Avro et Parquet**"
      ],
      "metadata": {
        "id": "WO-c5KApOr_b"
      }
    },
    {
      "cell_type": "code",
      "source": [
        "import os\n",
        "\n",
        "# Taille des fichiers\n",
        "size_avro = os.path.getsize(\"data_pandas.avro\")\n",
        "size_parquet = os.path.getsize(\"data.parquet\")\n",
        "\n",
        "print(f\"Taille du fichier Avro : {size_avro} octets\")\n",
        "print(f\"Taille du fichier Parquet : {size_parquet} octets\")\n"
      ],
      "metadata": {
        "id": "gzSZ0lhbOpeU"
      },
      "execution_count": null,
      "outputs": []
    },
    {
      "cell_type": "markdown",
      "source": [
        "**Expérimentation avec la compression (Gzip vs Snappy)**"
      ],
      "metadata": {
        "id": "o3c2YRKlPMXg"
      }
    },
    {
      "cell_type": "code",
      "source": [
        "pq.write_table(table, \"data_gzip.parquet\", compression=\"gzip\")\n",
        "size_gzip = os.path.getsize(\"data_gzip.parquet\")\n",
        "print(f\"Taille du fichier Parquet avec Gzip : {size_gzip} octets\")"
      ],
      "metadata": {
        "id": "92CZEfqZPOJp"
      },
      "execution_count": null,
      "outputs": []
    },
    {
      "cell_type": "markdown",
      "source": [
        "**Compression avec Snappy**"
      ],
      "metadata": {
        "id": "Au37_fIQPc9y"
      }
    },
    {
      "cell_type": "code",
      "source": [
        "pq.write_table(table, \"data_snappy.parquet\", compression=\"snappy\")\n",
        "size_snappy = os.path.getsize(\"data_snappy.parquet\")\n",
        "print(f\"Taille du fichier Parquet avec Snappy : {size_snappy} octets\")"
      ],
      "metadata": {
        "id": "E08djPvnPixm"
      },
      "execution_count": null,
      "outputs": []
    }
  ]
}